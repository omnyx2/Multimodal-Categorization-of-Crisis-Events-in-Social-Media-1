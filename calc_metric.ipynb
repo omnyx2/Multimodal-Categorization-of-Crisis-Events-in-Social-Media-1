{
 "cells": [
  {
   "cell_type": "markdown",
   "id": "eb19e9b7-9347-4449-b4a8-d6017a00fceb",
   "metadata": {},
   "source": [
    "### Check prediction accuracy for each event"
   ]
  },
  {
   "cell_type": "code",
   "execution_count": 3,
   "id": "e0fe5a50-a6fb-499f-a738-4a84ae61002d",
   "metadata": {},
   "outputs": [],
   "source": [
    "import os\n",
    "import sys\n",
    "import json\n",
    "import numpy as np\n",
    "import random\n",
    "from IPython.display import Image, display\n",
    "\n",
    "from preprocess import clean_text"
   ]
  },
  {
   "cell_type": "code",
   "execution_count": 4,
   "id": "f338b193-6399-495f-b3db-da57a5a47fcd",
   "metadata": {},
   "outputs": [],
   "source": [
    "id2label = {}\n",
    "id2label['task1'] = {\n",
    "    0: 'informative',\n",
    "    1: 'not_informative'\n",
    "}\n",
    "id2label['task2'] = {\n",
    "    0: 'affected_individuals',\n",
    "    1: 'infrastructure_and_utility_damage',\n",
    "    2: 'injured_or_dead_people',\n",
    "    3: 'missing_or_found_people',\n",
    "    4: 'not_humanitarian',\n",
    "    5: 'other_relevant_information',\n",
    "    6: 'rescue_volunteering_or_donation_effort',\n",
    "    7: 'vehicle_damage',\n",
    "}"
   ]
  },
  {
   "cell_type": "code",
   "execution_count": 5,
   "id": "a66ae583-325b-4953-85f0-d457cf80a940",
   "metadata": {},
   "outputs": [],
   "source": [
    "count = {}\n",
    "count['task1'] = {\n",
    "    'informative': {\n",
    "        'tp': 0,\n",
    "        'pred': 0,\n",
    "        'label': 0\n",
    "    },\n",
    "    'not_informative': {\n",
    "        'tp': 0,\n",
    "        'pred': 0,\n",
    "        'label': 0\n",
    "    },\n",
    "}\n",
    "count['task2'] = {\n",
    "    'affected_individuals': {\n",
    "        'tp': 0,\n",
    "        'pred': 0,\n",
    "        'label': 0\n",
    "    },\n",
    "    'infrastructure_and_utility_damage': {\n",
    "        'tp': 0,\n",
    "        'pred': 0,\n",
    "        'label': 0\n",
    "    },\n",
    "     'injured_or_dead_people': {\n",
    "        'tp': 0,\n",
    "        'pred': 0,\n",
    "        'label': 0\n",
    "    },\n",
    "     'missing_or_found_people': {\n",
    "        'tp': 0,\n",
    "        'pred': 0,\n",
    "        'label': 0\n",
    "    },\n",
    "     'not_humanitarian': {\n",
    "        'tp': 0,\n",
    "        'pred': 0,\n",
    "        'label': 0\n",
    "    },\n",
    "     'other_relevant_information': {\n",
    "        'tp': 0,\n",
    "        'pred': 0,\n",
    "        'label': 0\n",
    "    },\n",
    "     'rescue_volunteering_or_donation_effort': {\n",
    "        'tp': 0,\n",
    "        'pred': 0,\n",
    "        'label': 0\n",
    "    },\n",
    "     'vehicle_damage': {\n",
    "        'tp': 0,\n",
    "        'pred': 0,\n",
    "        'label': 0\n",
    "    },\n",
    "}"
   ]
  },
  {
   "cell_type": "code",
   "execution_count": 6,
   "id": "b8a45144-0607-4b5d-97ef-c90391fb635c",
   "metadata": {},
   "outputs": [],
   "source": [
    "task = 'task2'\n",
    "dirpath_image = '../data/outputs_103121/'\n",
    "\n",
    "if task == 'task1':\n",
    "    filepath_data = f\"../data/visual_embeddings_102621/informative/test.npy\"\n",
    "    filepath_result = './results/task1_103121/task_task1_lr5e-05_bs64_epoch2.json'\n",
    "elif task == 'task2':\n",
    "    filepath_data = f\"../data/visual_embeddings_102621/humanitarian/test.npy\"\n",
    "    filepath_result = './results/task2_103121/task_task2_lr5e-06_bs64_epoch4.json'"
   ]
  },
  {
   "cell_type": "code",
   "execution_count": 7,
   "id": "d7a5bfb4-beed-4040-a5fe-032a233d469a",
   "metadata": {},
   "outputs": [
    {
     "ename": "FileNotFoundError",
     "evalue": "[Errno 2] No such file or directory: '../data/visual_embeddings_102621/humanitarian/test.npy'",
     "output_type": "error",
     "traceback": [
      "\u001b[0;31m---------------------------------------------------------------------------\u001b[0m",
      "\u001b[0;31mFileNotFoundError\u001b[0m                         Traceback (most recent call last)",
      "\u001b[0;32m/tmp/ipykernel_5333/3653111428.py\u001b[0m in \u001b[0;36m<module>\u001b[0;34m\u001b[0m\n\u001b[0;32m----> 1\u001b[0;31m \u001b[0mdata\u001b[0m \u001b[0;34m=\u001b[0m \u001b[0;34m[\u001b[0m\u001b[0mx\u001b[0m \u001b[0;32mfor\u001b[0m \u001b[0mx\u001b[0m \u001b[0;32min\u001b[0m \u001b[0mnp\u001b[0m\u001b[0;34m.\u001b[0m\u001b[0mload\u001b[0m\u001b[0;34m(\u001b[0m\u001b[0mfilepath_data\u001b[0m\u001b[0;34m,\u001b[0m \u001b[0mallow_pickle\u001b[0m\u001b[0;34m=\u001b[0m\u001b[0;32mTrue\u001b[0m\u001b[0;34m)\u001b[0m\u001b[0;34m.\u001b[0m\u001b[0mitem\u001b[0m\u001b[0;34m(\u001b[0m\u001b[0;34m)\u001b[0m\u001b[0;34m.\u001b[0m\u001b[0mvalues\u001b[0m\u001b[0;34m(\u001b[0m\u001b[0;34m)\u001b[0m\u001b[0;34m]\u001b[0m\u001b[0;34m\u001b[0m\u001b[0;34m\u001b[0m\u001b[0m\n\u001b[0m\u001b[1;32m      2\u001b[0m \u001b[0;32mwith\u001b[0m \u001b[0mopen\u001b[0m\u001b[0;34m(\u001b[0m\u001b[0mfilepath_result\u001b[0m\u001b[0;34m,\u001b[0m \u001b[0;34m'r'\u001b[0m\u001b[0;34m)\u001b[0m \u001b[0;32mas\u001b[0m \u001b[0mf\u001b[0m\u001b[0;34m:\u001b[0m\u001b[0;34m\u001b[0m\u001b[0;34m\u001b[0m\u001b[0m\n\u001b[1;32m      3\u001b[0m     \u001b[0mresult\u001b[0m \u001b[0;34m=\u001b[0m \u001b[0mjson\u001b[0m\u001b[0;34m.\u001b[0m\u001b[0mload\u001b[0m\u001b[0;34m(\u001b[0m\u001b[0mf\u001b[0m\u001b[0;34m)\u001b[0m\u001b[0;34m\u001b[0m\u001b[0;34m\u001b[0m\u001b[0m\n\u001b[1;32m      4\u001b[0m \u001b[0macc\u001b[0m \u001b[0;34m=\u001b[0m \u001b[0mresult\u001b[0m\u001b[0;34m[\u001b[0m\u001b[0;34m'accuracy'\u001b[0m\u001b[0;34m]\u001b[0m\u001b[0;34m\u001b[0m\u001b[0;34m\u001b[0m\u001b[0m\n\u001b[1;32m      5\u001b[0m \u001b[0mpreds\u001b[0m \u001b[0;34m=\u001b[0m \u001b[0mresult\u001b[0m\u001b[0;34m[\u001b[0m\u001b[0;34m'predictions'\u001b[0m\u001b[0;34m]\u001b[0m\u001b[0;34m\u001b[0m\u001b[0;34m\u001b[0m\u001b[0m\n",
      "\u001b[0;32m/opt/conda/lib/python3.7/site-packages/numpy/lib/npyio.py\u001b[0m in \u001b[0;36mload\u001b[0;34m(file, mmap_mode, allow_pickle, fix_imports, encoding)\u001b[0m\n\u001b[1;32m    415\u001b[0m             \u001b[0mown_fid\u001b[0m \u001b[0;34m=\u001b[0m \u001b[0;32mFalse\u001b[0m\u001b[0;34m\u001b[0m\u001b[0;34m\u001b[0m\u001b[0m\n\u001b[1;32m    416\u001b[0m         \u001b[0;32melse\u001b[0m\u001b[0;34m:\u001b[0m\u001b[0;34m\u001b[0m\u001b[0;34m\u001b[0m\u001b[0m\n\u001b[0;32m--> 417\u001b[0;31m             \u001b[0mfid\u001b[0m \u001b[0;34m=\u001b[0m \u001b[0mstack\u001b[0m\u001b[0;34m.\u001b[0m\u001b[0menter_context\u001b[0m\u001b[0;34m(\u001b[0m\u001b[0mopen\u001b[0m\u001b[0;34m(\u001b[0m\u001b[0mos_fspath\u001b[0m\u001b[0;34m(\u001b[0m\u001b[0mfile\u001b[0m\u001b[0;34m)\u001b[0m\u001b[0;34m,\u001b[0m \u001b[0;34m\"rb\"\u001b[0m\u001b[0;34m)\u001b[0m\u001b[0;34m)\u001b[0m\u001b[0;34m\u001b[0m\u001b[0;34m\u001b[0m\u001b[0m\n\u001b[0m\u001b[1;32m    418\u001b[0m             \u001b[0mown_fid\u001b[0m \u001b[0;34m=\u001b[0m \u001b[0;32mTrue\u001b[0m\u001b[0;34m\u001b[0m\u001b[0;34m\u001b[0m\u001b[0m\n\u001b[1;32m    419\u001b[0m \u001b[0;34m\u001b[0m\u001b[0m\n",
      "\u001b[0;31mFileNotFoundError\u001b[0m: [Errno 2] No such file or directory: '../data/visual_embeddings_102621/humanitarian/test.npy'"
     ]
    }
   ],
   "source": [
    "data = [x for x in np.load(filepath_data, allow_pickle=True).item().values()]\n",
    "with open(filepath_result, 'r') as f:\n",
    "    result = json.load(f)\n",
    "acc = result['accuracy']\n",
    "preds = result['predictions']"
   ]
  },
  {
   "cell_type": "code",
   "execution_count": null,
   "id": "8af00207-6227-46a0-b821-9c460c936cac",
   "metadata": {},
   "outputs": [],
   "source": [
    "for cnt, (example, pred) in enumerate(zip(data, preds)):\n",
    "    \n",
    "    label = example['label_str'][0]\n",
    "    pred = id2label[task][pred]\n",
    "    event = example['path_image'][0].split('/')[-3]\n",
    "    count[task][label]['label'] += 1\n",
    "    count[task][pred]['pred'] += 1\n",
    "    if label == pred:\n",
    "        count[task][label]['tp'] += 1"
   ]
  },
  {
   "cell_type": "code",
   "execution_count": null,
   "id": "9282f6a5-55ef-44a9-b20a-cf551cbe4db7",
   "metadata": {},
   "outputs": [
    {
     "name": "stdout",
     "output_type": "stream",
     "text": [
      "affected_individuals\n",
      "F1: 0.0000, Precision: 0.0000, Recall: 0.0000\n",
      "infrastructure_and_utility_damage\n",
      "F1: 0.3834, Precision: 0.4789, Recall: 0.3197\n",
      "injured_or_dead_people\n",
      "F1: 0.4367, Precision: 0.4130, Recall: 0.4634\n",
      "missing_or_found_people\n",
      "F1: 0.0000, Precision: 0.0000, Recall: 0.0000\n",
      "not_humanitarian\n",
      "F1: 0.6288, Precision: 0.5952, Recall: 0.6667\n",
      "other_relevant_information\n",
      "F1: 0.5282, Precision: 0.5577, Recall: 0.5017\n",
      "rescue_volunteering_or_donation_effort\n",
      "F1: 0.5430, Precision: 0.4536, Recall: 0.6765\n",
      "vehicle_damage\n",
      "F1: 0.0000, Precision: 0.0000, Recall: 0.0000\n"
     ]
    }
   ],
   "source": [
    "for k, s in count[task].items():\n",
    "    print(k)\n",
    "    recall = s['tp'] / (s['label'] + 0.0001)\n",
    "    precision = s['tp'] / (s['pred'] + 0.0001)\n",
    "    f1 = 2 * precision * recall / (recall + precision + 0.0001)\n",
    "    print(f\"F1: {f1:.4f}, Precision: {precision:.4f}, Recall: {recall:.4f}\")"
   ]
  },
  {
   "cell_type": "code",
   "execution_count": null,
   "id": "5894160e-690d-482b-acb5-fc66d7f2e5b4",
   "metadata": {},
   "outputs": [],
   "source": []
  }
 ],
 "metadata": {
  "kernelspec": {
   "display_name": "Python 3.7.7 ('base')",
   "language": "python",
   "name": "python3"
  },
  "language_info": {
   "codemirror_mode": {
    "name": "ipython",
    "version": 3
   },
   "file_extension": ".py",
   "mimetype": "text/x-python",
   "name": "python",
   "nbconvert_exporter": "python",
   "pygments_lexer": "ipython3",
   "version": "3.7.7"
  },
  "vscode": {
   "interpreter": {
    "hash": "d4d1e4263499bec80672ea0156c357c1ee493ec2b1c70f0acce89fc37c4a6abe"
   }
  }
 },
 "nbformat": 4,
 "nbformat_minor": 5
}
